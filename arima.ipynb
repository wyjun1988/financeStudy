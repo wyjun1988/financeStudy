{
 "cells": [
  {
   "cell_type": "code",
   "execution_count": 1,
   "metadata": {},
   "outputs": [],
   "source": [
    "import yfinance as yf\n",
    "import pandas as pd\n",
    "import numpy as np\n",
    "from statsmodels.tsa.arima_model import ARIMA #time series analysis\n",
    "import statsmodels.api as sm\n",
    "from statsmodels.graphics.tsaplots import plot_acf\n",
    "from statsmodels.stats.diagnostic import acorr_ljungbox\n",
    "import scipy.stats as scs"
   ]
  },
  {
   "cell_type": "code",
   "execution_count": 2,
   "metadata": {},
   "outputs": [],
   "source": [
    "df = yf.download('AAPL', start='2015-01-01', end='2021-12-31', adjusted=True, progress=False)\n",
    "aapl = df.resample('W').last().rename(columns={'Adj Close' : 'adj_close'}).adj_close"
   ]
  },
  {
   "cell_type": "code",
   "execution_count": 3,
   "metadata": {},
   "outputs": [],
   "source": [
    "aapl_diff = aapl.diff().dropna()\n"
   ]
  },
  {
   "cell_type": "code",
   "execution_count": 4,
   "metadata": {},
   "outputs": [
    {
     "data": {
      "text/plain": [
       "<AxesSubplot:title={'center':'first diff'}, xlabel='Date'>"
      ]
     },
     "execution_count": 4,
     "metadata": {},
     "output_type": "execute_result"
    },
    {
     "data": {
      "image/png": "[encoded data removed]",
      "text/plain": [
       "<Figure size 432x288 with 2 Axes>"
      ]
     },
     "metadata": {
      "needs_background": "light"
     },
     "output_type": "display_data"
    }
   ],
   "source": [
    "from matplotlib import pyplot as plt \n",
    "fig,ax = plt.subplots(2, sharex=True)\n",
    "\n",
    "aapl.plot(title=\"aapl's stock price\", ax=ax[0])\n",
    "aapl_diff.plot(ax=ax[1], title='first diff')\n"
   ]
  },
  {
   "cell_type": "code",
   "execution_count": 5,
   "metadata": {},
   "outputs": [
    {
     "name": "stdout",
     "output_type": "stream",
     "text": [
      "Date\n",
      "2015-01-04     24.746000\n",
      "2015-01-11     25.352592\n",
      "2015-01-18     23.990013\n",
      "2015-01-25     25.572145\n",
      "2015-02-01     26.518263\n",
      "                 ...    \n",
      "2021-12-05    161.839996\n",
      "2021-12-12    179.449997\n",
      "2021-12-19    171.139999\n",
      "2021-12-26    176.279999\n",
      "2022-01-02    178.199997\n",
      "Freq: W-SUN, Name: adj_close, Length: 366, dtype: float64\n"
     ]
    }
   ],
   "source": [
    "print(aapl)"
   ]
  },
  {
   "cell_type": "code",
   "execution_count": 13,
   "metadata": {},
   "outputs": [
    {
     "name": "stderr",
     "output_type": "stream",
     "text": [
      "C:\\Users\\eric-\\anaconda3\\envs\\fi-env\\lib\\site-packages\\statsmodels\\tsa\\statespace\\sarimax.py:966: UserWarning: Non-stationary starting autoregressive parameters found. Using zeros as starting parameters.\n",
      "  warn('Non-stationary starting autoregressive parameters'\n",
      "C:\\Users\\eric-\\anaconda3\\envs\\fi-env\\lib\\site-packages\\statsmodels\\tsa\\statespace\\sarimax.py:978: UserWarning: Non-invertible starting MA parameters found. Using zeros as starting parameters.\n",
      "  warn('Non-invertible starting MA parameters found.'\n"
     ]
    }
   ],
   "source": [
    "arima = sm.tsa.arima.ARIMA(aapl, order=(2, 1, 1)).fit()"
   ]
  },
  {
   "cell_type": "code",
   "execution_count": 14,
   "metadata": {},
   "outputs": [
    {
     "data": {
      "text/html": [
       "<table class=\"simpletable\">\n",
       "<caption>SARIMAX Results</caption>\n",
       "<tr>\n",
       "  <th>Dep. Variable:</th>       <td>adj_close</td>    <th>  No. Observations:  </th>    <td>366</td>  \n",
       "</tr>\n",
       "<tr>\n",
       "  <th>Model:</th>            <td>ARIMA(2, 1, 1)</td>  <th>  Log Likelihood     </th> <td>-893.082</td>\n",
       "</tr>\n",
       "<tr>\n",
       "  <th>Date:</th>            <td>Thu, 06 Jan 2022</td> <th>  AIC                </th> <td>1794.164</td>\n",
       "</tr>\n",
       "<tr>\n",
       "  <th>Time:</th>                <td>22:49:11</td>     <th>  BIC                </th> <td>1809.764</td>\n",
       "</tr>\n",
       "<tr>\n",
       "  <th>Sample:</th>             <td>01-04-2015</td>    <th>  HQIC               </th> <td>1800.363</td>\n",
       "</tr>\n",
       "<tr>\n",
       "  <th></th>                   <td>- 01-02-2022</td>   <th>                     </th>     <td> </td>   \n",
       "</tr>\n",
       "<tr>\n",
       "  <th>Covariance Type:</th>        <td>opg</td>       <th>                     </th>     <td> </td>   \n",
       "</tr>\n",
       "</table>\n",
       "<table class=\"simpletable\">\n",
       "<tr>\n",
       "     <td></td>       <th>coef</th>     <th>std err</th>      <th>z</th>      <th>P>|z|</th>  <th>[0.025</th>    <th>0.975]</th>  \n",
       "</tr>\n",
       "<tr>\n",
       "  <th>ar.L1</th>  <td>    0.4800</td> <td>    0.192</td> <td>    2.495</td> <td> 0.013</td> <td>    0.103</td> <td>    0.857</td>\n",
       "</tr>\n",
       "<tr>\n",
       "  <th>ar.L2</th>  <td>    0.1182</td> <td>    0.045</td> <td>    2.641</td> <td> 0.008</td> <td>    0.030</td> <td>    0.206</td>\n",
       "</tr>\n",
       "<tr>\n",
       "  <th>ma.L1</th>  <td>   -0.4990</td> <td>    0.190</td> <td>   -2.628</td> <td> 0.009</td> <td>   -0.871</td> <td>   -0.127</td>\n",
       "</tr>\n",
       "<tr>\n",
       "  <th>sigma2</th> <td>    7.8117</td> <td>    0.277</td> <td>   28.184</td> <td> 0.000</td> <td>    7.269</td> <td>    8.355</td>\n",
       "</tr>\n",
       "</table>\n",
       "<table class=\"simpletable\">\n",
       "<tr>\n",
       "  <th>Ljung-Box (L1) (Q):</th>     <td>0.19</td>  <th>  Jarque-Bera (JB):  </th> <td>1087.53</td>\n",
       "</tr>\n",
       "<tr>\n",
       "  <th>Prob(Q):</th>                <td>0.66</td>  <th>  Prob(JB):          </th>  <td>0.00</td>  \n",
       "</tr>\n",
       "<tr>\n",
       "  <th>Heteroskedasticity (H):</th> <td>26.41</td> <th>  Skew:              </th>  <td>0.75</td>  \n",
       "</tr>\n",
       "<tr>\n",
       "  <th>Prob(H) (two-sided):</th>    <td>0.00</td>  <th>  Kurtosis:          </th>  <td>11.32</td> \n",
       "</tr>\n",
       "</table><br/><br/>Warnings:<br/>[1] Covariance matrix calculated using the outer product of gradients (complex-step)."
      ],
      "text/plain": [
       "<class 'statsmodels.iolib.summary.Summary'>\n",
       "\"\"\"\n",
       "                               SARIMAX Results                                \n",
       "==============================================================================\n",
       "Dep. Variable:              adj_close   No. Observations:                  366\n",
       "Model:                 ARIMA(2, 1, 1)   Log Likelihood                -893.082\n",
       "Date:                Thu, 06 Jan 2022   AIC                           1794.164\n",
       "Time:                        22:49:11   BIC                           1809.764\n",
       "Sample:                    01-04-2015   HQIC                          1800.363\n",
       "                         - 01-02-2022                                         \n",
       "Covariance Type:                  opg                                         \n",
       "==============================================================================\n",
       "                 coef    std err          z      P>|z|      [0.025      0.975]\n",
       "------------------------------------------------------------------------------\n",
       "ar.L1          0.4800      0.192      2.495      0.013       0.103       0.857\n",
       "ar.L2          0.1182      0.045      2.641      0.008       0.030       0.206\n",
       "ma.L1         -0.4990      0.190     -2.628      0.009      -0.871      -0.127\n",
       "sigma2         7.8117      0.277     28.184      0.000       7.269       8.355\n",
       "===================================================================================\n",
       "Ljung-Box (L1) (Q):                   0.19   Jarque-Bera (JB):              1087.53\n",
       "Prob(Q):                              0.66   Prob(JB):                         0.00\n",
       "Heteroskedasticity (H):              26.41   Skew:                             0.75\n",
       "Prob(H) (two-sided):                  0.00   Kurtosis:                        11.32\n",
       "===================================================================================\n",
       "\n",
       "Warnings:\n",
       "[1] Covariance matrix calculated using the outer product of gradients (complex-step).\n",
       "\"\"\""
      ]
     },
     "execution_count": 14,
     "metadata": {},
     "output_type": "execute_result"
    }
   ],
   "source": [
    "arima.summary()"
   ]
  },
  {
   "cell_type": "code",
   "execution_count": null,
   "metadata": {},
   "outputs": [],
   "source": []
  }
 ],
 "metadata": {
  "interpreter": {
   "hash": "4f900bfea1cc415ff716cdedf459749674dc0eb505735163eaadb8ef4d35aa9d"
  },
  "kernelspec": {
   "display_name": "Python 3.8.12 64-bit ('fi-env': conda)",
   "language": "python",
   "name": "python3"
  },
  "language_info": {
   "codemirror_mode": {
    "name": "ipython",
    "version": 3
   },
   "file_extension": ".py",
   "mimetype": "text/x-python",
   "name": "python",
   "nbconvert_exporter": "python",
   "pygments_lexer": "ipython3",
   "version": "3.8.12"
  },
  "orig_nbformat": 4
 },
 "nbformat": 4,
 "nbformat_minor": 2
}
